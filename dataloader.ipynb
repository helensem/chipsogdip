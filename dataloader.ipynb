{
 "cells": [
  {
   "cell_type": "code",
   "execution_count": 2,
   "metadata": {},
   "outputs": [],
   "source": [
    "## imports \n",
    "\n",
    "# For testing detectron2 mask r-cnn with COCO \n",
    "\n",
    "import detectron2 \n",
    "\n",
    "#Setup logger\n",
    "from detectron2.utils.logger import setup_logger\n",
    "setup_logger()\n",
    "\n",
    "#Some common libraries \n",
    "import numpy as np \n",
    "import os,json,cv2,random \n",
    "\n",
    "\n",
    "#Detectron2 utilities \n",
    "\n",
    "from detectron2 import model_zoo\n",
    "from detectron2.engine import DefaultPredictor\n",
    "from detectron2.config import get_cfg \n",
    "from detectron2.utils.visualizer import Visualizer\n",
    "from detectron2.data import MetadataCatalog, DatasetCatalog\n",
    "import sys \n",
    "sys.path.append(r\"/Users/helenesemb/Documents/chipsogdip/kode\")\n",
    "from kode.dataset import load_damage_dicts\n"
   ]
  },
  {
   "cell_type": "code",
   "execution_count": 33,
   "metadata": {},
   "outputs": [],
   "source": [
    "from detectron2.structures import BoxMode \n",
    "\n",
    "\n",
    "def find_contours(sub_mask):\n",
    "    assert sub_mask is not None, \"file could not be read, check with os.path.exists()\"\n",
    "    imgray = cv2.cvtColor(sub_mask, cv2.COLOR_BGR2GRAY)\n",
    "    ret, thresh = cv2.threshold(imgray, 127, 255, 0)\n",
    "    contours, hierarchy = cv2.findContours(thresh, cv2.RETR_TREE, cv2.CHAIN_APPROX_SIMPLE)\n",
    "    return contours[0]\n",
    "\n",
    "\n",
    "def create_image_annotation(file_name, width, height, image_id):\n",
    "    return {\n",
    "        \"id\": image_id,\n",
    "        \"width\": width,\n",
    "        \"height\": height,\n",
    "        \"file_name\": file_name,\n",
    "    }\n",
    "\n",
    "\n",
    "def create_annotation_format(contour):\n",
    "    return {\n",
    "        \"iscrowd\": 0,\n",
    "        \"segmentation\": [contour.flatten().tolist()],\n",
    "        \"bbox\": cv2.boundingRect(contour),\n",
    "        \"bbox_mode\": BoxMode.XYWH_ABS,\n",
    "        \"category_id\": 0,\n",
    "    }"
   ]
  },
  {
   "cell_type": "code",
   "execution_count": 3,
   "metadata": {},
   "outputs": [
    {
     "data": {
      "text/html": [
       "\n",
       "      <iframe id=\"tensorboard-frame-ad5e8a55c63f5e4c\" width=\"100%\" height=\"800\" frameborder=\"0\">\n",
       "      </iframe>\n",
       "      <script>\n",
       "        (function() {\n",
       "          const frame = document.getElementById(\"tensorboard-frame-ad5e8a55c63f5e4c\");\n",
       "          const url = new URL(\"http://localhost\");\n",
       "          const port = 6006;\n",
       "          if (port) {\n",
       "            url.port = port;\n",
       "          }\n",
       "          frame.src = url;\n",
       "        })();\n",
       "      </script>\n",
       "    "
      ],
      "text/plain": [
       "<IPython.core.display.HTML object>"
      ]
     },
     "metadata": {},
     "output_type": "display_data"
    }
   ],
   "source": [
    "\n",
    "\n",
    "%load_ext tensorboard \n",
    "%tensorboard --logdir /Volumes/helensem/Master/output/run1/resnet50"
   ]
  },
  {
   "cell_type": "markdown",
   "metadata": {},
   "source": []
  },
  {
   "cell_type": "code",
   "execution_count": 36,
   "metadata": {},
   "outputs": [],
   "source": [
    "import skimage\n",
    "\n",
    "\n",
    "def load_damage_dicts(dataset_dir, subset): \n",
    "    dataset_dicts = []\n",
    "\n",
    "    assert subset in [\"train\", \"val\"]\n",
    "    dataset_dir = os.path.join(dataset_dir, subset)\n",
    "    image_ids = next(os.walk(dataset_dir))[1]\n",
    "    for image_id in image_ids:\n",
    "\n",
    "        image_dir = os.path.join(dataset_dir, image_id)\n",
    "        (_, _, file_names) = next(os.walk(image_dir))\n",
    "        file_name = file_names[0]\n",
    "        image_path = os.path.join(image_dir, file_name)\n",
    "\n",
    "        height, width = cv2.imread(image_path).shape[:2]\n",
    "        record = create_image_annotation(image_path, width, height, image_id)\n",
    "\n",
    "        mask_dir = os.path.join(image_dir, 'masks')\n",
    "        objs = []\n",
    "        for f in next(os.walk(mask_dir))[2]:\n",
    "            if f.endswith('.png') and ('corrosion' or 'grov_merking' in f):\n",
    "                mask_path = os.path.join(mask_dir, f)\n",
    "                mask = cv2.imread(mask_path)\n",
    "                contour = find_contours(mask)\n",
    "                obj = create_annotation_format(contour)\n",
    "                objs.append(obj)\n",
    "        record[\"annotations\"] = objs\n",
    "        dataset_dicts.append(record)\n",
    "    return dataset_dicts\n",
    "\n",
    "\n",
    "for d in [\"train\", \"val\"]:\n",
    "    DatasetCatalog.register(\"damage_\" + d, lambda d=d: load_damage_dicts(r\"/Users/HeleneSemb/Documents/Master/chipsogdip\", \"train\"))\n",
    "    MetadataCatalog.get(\"damage_\" + d).set(thing_classes=[\"damage\"])\n",
    "\n",
    "balloon_metadata = MetadataCatalog.get(\"damage_train\")"
   ]
  },
  {
   "cell_type": "code",
   "execution_count": 1,
   "metadata": {},
   "outputs": [
    {
     "data": {
      "image/png": "[encoded data removed]",
      "text/plain": [
       "<Figure size 640x480 with 1 Axes>"
      ]
     },
     "metadata": {},
     "output_type": "display_data"
    }
   ],
   "source": [
    "import numpy as np\n",
    "from matplotlib import pyplot as plt\n",
    "theta = np.linspace(0, 2 * np.pi, 100)\n",
    "x = 14 * (np.sin(theta)**3)\n",
    "y = 12 * np.cos(theta) - 5* np.cos(2*theta) - 2 * np.cos(3*theta) - np.cos(4*theta)\n",
    "plt.plot(x, y, \"r-\")\n",
    "plt.show()"
   ]
  },
  {
   "cell_type": "code",
   "execution_count": 9,
   "metadata": {},
   "outputs": [
    {
     "name": "stdout",
     "output_type": "stream",
     "text": [
      "Contour too small:  /Users/HeleneSemb/Documents/Master/train/0/masks/grov_merking_8.png\n",
      "Contour too small:  /Users/HeleneSemb/Documents/Master/train/0/masks/grov_merking_9.png\n",
      "Contour too small:  /Users/HeleneSemb/Documents/Master/train/0/masks/grov_merking_7.png\n",
      "Contour too small:  /Users/HeleneSemb/Documents/Master/train/0/masks/grov_merking_6.png\n",
      "Contour too small:  /Users/HeleneSemb/Documents/Master/train/0/masks/grov_merking_10.png\n"
     ]
    }
   ],
   "source": [
    "balloon_metadata = MetadataCatalog.get(\"damage_train\")\n",
    "\n",
    "dataset_dicts = load_damage_dicts(r\"/Users/HeleneSemb/Documents/Master\", \"train\")\n",
    "for d in random.sample(dataset_dicts, 1): \n",
    "    img = cv2.imread(d[\"file_name\"])\n",
    "    visualizer = Visualizer(img[:,:,::-1], metadata = balloon_metadata, scale =0.5)\n",
    "    out = visualizer.draw_dataset_dict(d)\n",
    "    cv2.imshow(\"imageout\", out.get_image()[:,:,::-1])\n",
    "    cv2.waitKey(0)\n",
    "    # closing all open windows\n",
    "    cv2.destroyAllWindows()"
   ]
  }
 ],
 "metadata": {
  "kernelspec": {
   "display_name": "detectron_env",
   "language": "python",
   "name": "python3"
  },
  "language_info": {
   "codemirror_mode": {
    "name": "ipython",
    "version": 3
   },
   "file_extension": ".py",
   "mimetype": "text/x-python",
   "name": "python",
   "nbconvert_exporter": "python",
   "pygments_lexer": "ipython3",
   "version": "3.8.16"
  },
  "orig_nbformat": 4,
  "vscode": {
   "interpreter": {
    "hash": "ada45f2888648029478d06f121b9306e34075784dddb9ffe5d0c2082b08e389f"
   }
  }
 },
 "nbformat": 4,
 "nbformat_minor": 2
}
